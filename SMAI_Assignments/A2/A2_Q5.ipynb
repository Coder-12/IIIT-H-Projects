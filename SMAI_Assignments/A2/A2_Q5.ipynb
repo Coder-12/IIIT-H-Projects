{
 "cells": [
  {
   "cell_type": "code",
   "execution_count": 116,
   "metadata": {},
   "outputs": [],
   "source": [
    "%matplotlib inline\n",
    "import pandas as pd\n",
    "import pickle\n",
    "import numpy as np\n",
    "import matplotlib.pyplot as plt\n",
    "from matplotlib import style\n",
    "from scipy.stats import norm\n",
    "from sklearn.feature_extraction.text import CountVectorizer\n",
    "import numpy as np\n",
    "import numpy.linalg as la\n",
    "from sklearn.feature_extraction.text import TfidfTransformer\n",
    "from sklearn.decomposition import PCA\n",
    "import nltk\n",
    "from nltk.corpus import stopwords \n",
    "from nltk.tokenize import word_tokenize\n",
    "from nltk.stem import PorterStemmer \n",
    "import cvxopt\n",
    "np.random.seed(0)\n",
    "import seaborn as sns\n",
    "import random as rd\n",
    "import csv\n",
    "import random\n",
    "import math\n",
    "import operator\n",
    "import copy\n",
    "import os,os.path"
   ]
  },
  {
   "cell_type": "code",
   "execution_count": 94,
   "metadata": {},
   "outputs": [],
   "source": [
    "def trainsubset(data,drop_size):\n",
    "    if isinstance(drop_size,float):\n",
    "        drop_size=round(drop_size * len(data))\n",
    "    indices = data.index.tolist()\n",
    "    drop_indices = random.sample(population=indices,k=drop_size)\n",
    "    train_subdata = data.drop(drop_indices)\n",
    "    return train_subdata"
   ]
  },
  {
   "cell_type": "code",
   "execution_count": 95,
   "metadata": {},
   "outputs": [
    {
     "name": "stdout",
     "output_type": "stream",
     "text": [
      "(7831, 2)\n"
     ]
    }
   ],
   "source": [
    "data = pd.read_csv(\"E:\\\\SMAI_A2\\\\Q5\\\\Question-5\\\\train.csv\")\n",
    "data = data.drop(['Unnamed: 0'],axis=1)\n",
    "random.seed(0)\n",
    "data = trainsubset(data,drop_size=0.50)\n",
    "print(data.shape)"
   ]
  },
  {
   "cell_type": "code",
   "execution_count": 96,
   "metadata": {
    "scrolled": true
   },
   "outputs": [],
   "source": [
    "corpus = np.array(data[\"text\"])\n",
    "vectorizer = CountVectorizer()\n",
    "X = vectorizer.fit_transform(corpus)\n",
    "#features = vectorizer.get_feature_names() \n",
    "X = X.toarray()\n",
    "#print(X)"
   ]
  },
  {
   "cell_type": "code",
   "execution_count": 78,
   "metadata": {},
   "outputs": [
    {
     "data": {
      "text/plain": [
       "PCA(copy=True, iterated_power='auto', n_components=2, random_state=None,\n",
       "    svd_solver='auto', tol=0.0, whiten=False)"
      ]
     },
     "execution_count": 78,
     "metadata": {},
     "output_type": "execute_result"
    }
   ],
   "source": [
    "pca = PCA(n_components=2)\n",
    "pca.fit(X)"
   ]
  },
  {
   "cell_type": "code",
   "execution_count": 79,
   "metadata": {},
   "outputs": [],
   "source": [
    "reduced_X = pca.transform(X)"
   ]
  },
  {
   "cell_type": "code",
   "execution_count": 84,
   "metadata": {},
   "outputs": [
    {
     "data": {
      "text/plain": [
       "(7831, 2)"
      ]
     },
     "execution_count": 84,
     "metadata": {},
     "output_type": "execute_result"
    }
   ],
   "source": [
    "reduced_X.shape"
   ]
  },
  {
   "cell_type": "code",
   "execution_count": 85,
   "metadata": {},
   "outputs": [],
   "source": [
    "labels = np.array(data[\"author\"])"
   ]
  },
  {
   "cell_type": "markdown",
   "metadata": {},
   "source": [
    "# One Vs. All For Multiclass"
   ]
  },
  {
   "cell_type": "code",
   "execution_count": 14,
   "metadata": {},
   "outputs": [],
   "source": [
    "def findtrainsubset(X,Y,drop_size):\n",
    "        Xsub=[]\n",
    "        Ysub=[]\n",
    "        indices=[]\n",
    "        if isinstance(drop_size,float):\n",
    "            drop_size=round(drop_size * len(X))\n",
    "        for i in range(len(X)):\n",
    "            indices.append(i)\n",
    "        drop_indices = random.sample(population=indices,k=drop_size)\n",
    "        for i in range(len(X)):\n",
    "            if i not in drop_indices:\n",
    "                Xsub.append(X[i,:])\n",
    "                Ysub.append(Y[i])\n",
    "        Xsub=np.array(Xsub)\n",
    "        Ysub=np.array(Ysub)\n",
    "        return Xsub,Ysub"
   ]
  },
  {
   "cell_type": "code",
   "execution_count": 15,
   "metadata": {},
   "outputs": [],
   "source": [
    "def segregateclasses(data,labels):\n",
    "    data_classes={}\n",
    "    for i in range(labels.shape[0]):\n",
    "        if labels[i] not in data_classes:\n",
    "            data_classes[labels[i]]=[]\n",
    "        temp=data[i,:]\n",
    "        temp=list(temp)\n",
    "        data_classes[labels[i]].append(temp)\n",
    "    return data_classes"
   ]
  },
  {
   "cell_type": "code",
   "execution_count": 17,
   "metadata": {},
   "outputs": [],
   "source": [
    "def combineoneall(data,i):\n",
    "    l1=data[i].shape[0]\n",
    "    l2=0\n",
    "    idx=l1\n",
    "    for j in data:\n",
    "        if(i!=j):\n",
    "            l2+=data[j].shape[0]\n",
    "    sample_size=l1+l2\n",
    "    feature_size=data[i].shape[1]\n",
    "    data_pair=np.zeros((sample_size,feature_size))\n",
    "    data_labels=np.zeros((sample_size,1))\n",
    "    data_pair[:l1,:]=data[i]\n",
    "    \n",
    "    for j in data:\n",
    "        if(j!=i):\n",
    "            for k in range(data[j].shape[0]):\n",
    "                data_pair[idx,:]=data[j][k]\n",
    "                idx+=1\n",
    "                \n",
    "    data_labels[:l1]=-1\n",
    "    data_labels[l1:]=1\n",
    "    return data_pair,data_labels"
   ]
  },
  {
   "cell_type": "markdown",
   "metadata": {},
   "source": [
    " # Linear SVM Algorithm"
   ]
  },
  {
   "cell_type": "code",
   "execution_count": 146,
   "metadata": {},
   "outputs": [],
   "source": [
    "class SVM:\n",
    "    def __init__(self,C=1.0):\n",
    "        self.C = C\n",
    "        self.W = 0\n",
    "        self.b = 0\n",
    "        \n",
    "    def hingeLoss(self,W,b,X,Y):\n",
    "        loss  = 0.0\n",
    "        \n",
    "        loss += .5*np.dot(W,W.T)\n",
    "        \n",
    "        m = X.shape[0]\n",
    "        \n",
    "        for i in range(m):\n",
    "            ti = Y[i]*(np.dot(W,X[i].T)+b)\n",
    "            loss += self.C *max(0,(1-ti))\n",
    "            \n",
    "        return loss[0][0]\n",
    "    \n",
    "    def fit(self,X,Y,batch_size=50,learning_rate=0.001,maxItr=20):\n",
    "        \n",
    "        no_of_features = X.shape[1]\n",
    "        no_of_samples = X.shape[0]\n",
    "        \n",
    "        n = learning_rate\n",
    "        c = self.C\n",
    "        \n",
    "        #Init the model parameters\n",
    "        W = np.zeros((1,no_of_features))\n",
    "        bias = 0\n",
    "        \n",
    "        losses = []\n",
    "        \n",
    "        for i in range(maxItr):\n",
    "            \n",
    "            l = self.hingeLoss(W,bias,X,Y)\n",
    "            losses.append(l)\n",
    "            ids = np.arange(no_of_samples)\n",
    "            np.random.shuffle(ids)\n",
    "            \n",
    "            for batch_start in range(0,no_of_samples,batch_size):\n",
    "                gradw = 0\n",
    "                gradb = 0\n",
    "                \n",
    "                #Iterate over all examples in the mini batch\n",
    "                for j in range(batch_start,batch_start+batch_size):\n",
    "                    if j<no_of_samples:\n",
    "                        i = ids[j]\n",
    "                        ti =  Y[i]*(np.dot(W,X[i].T)+bias)\n",
    "                        \n",
    "                        if ti>1:\n",
    "                            gradw += 0\n",
    "                            gradb += 0\n",
    "                        else:\n",
    "                            gradw += c*Y[i]*X[i]\n",
    "                            gradb += c*Y[i]\n",
    "                            \n",
    "                W = W - n*W + n*gradw\n",
    "                bias = bias + n*gradb\n",
    "                \n",
    "        \n",
    "        self.W = W\n",
    "        self.b = bias\n",
    "        return W,bias,losses"
   ]
  },
  {
   "cell_type": "markdown",
   "metadata": {},
   "source": [
    "# Train Linear SVM"
   ]
  },
  {
   "cell_type": "code",
   "execution_count": 147,
   "metadata": {},
   "outputs": [],
   "source": [
    "mysvm = SVM()"
   ]
  },
  {
   "cell_type": "code",
   "execution_count": 152,
   "metadata": {},
   "outputs": [],
   "source": [
    "def trainSVMs(y):\n",
    "    svm_classifiers = {}\n",
    "    number_of_classes = len(np.unique(y))\n",
    "    for i in range(len(data_classes)):\n",
    "        xpair,ypair=combineoneall(data_classes,classes[i])\n",
    "        w,bias,losses = mysvm.fit(xpair, ypair,learning_rate=0.00001,maxItr=200)\n",
    "        svm_classifiers[i]=(w,bias)\n",
    "        plt.plot(losses)\n",
    "        plt.show()    \n",
    "    return svm_classifiers"
   ]
  },
  {
   "cell_type": "markdown",
   "metadata": {},
   "source": [
    "## For C=1.0"
   ]
  },
  {
   "cell_type": "code",
   "execution_count": 153,
   "metadata": {},
   "outputs": [
    {
     "data": {
      "image/png": "[encoded data removed]",
      "text/plain": [
       "<Figure size 432x288 with 1 Axes>"
      ]
     },
     "metadata": {
      "needs_background": "light"
     },
     "output_type": "display_data"
    },
    {
     "data": {
      "image/png": "[encoded data removed]",
      "text/plain": [
       "<Figure size 432x288 with 1 Axes>"
      ]
     },
     "metadata": {
      "needs_background": "light"
     },
     "output_type": "display_data"
    },
    {
     "data": {
      "image/png": "[encoded data removed]",
      "text/plain": [
       "<Figure size 432x288 with 1 Axes>"
      ]
     },
     "metadata": {
      "needs_background": "light"
     },
     "output_type": "display_data"
    }
   ],
   "source": [
    "svm_classifiers = trainSVMs(labels)"
   ]
  },
  {
   "cell_type": "markdown",
   "metadata": {},
   "source": [
    "## For C=0.001 "
   ]
  },
  {
   "cell_type": "code",
   "execution_count": 154,
   "metadata": {},
   "outputs": [
    {
     "data": {
      "image/png": "[encoded data removed]",
      "text/plain": [
       "<Figure size 432x288 with 1 Axes>"
      ]
     },
     "metadata": {
      "needs_background": "light"
     },
     "output_type": "display_data"
    },
    {
     "data": {
      "image/png": "[encoded data removed]",
      "text/plain": [
       "<Figure size 432x288 with 1 Axes>"
      ]
     },
     "metadata": {
      "needs_background": "light"
     },
     "output_type": "display_data"
    },
    {
     "data": {
      "image/png": "[encoded data removed]",
      "text/plain": [
       "<Figure size 432x288 with 1 Axes>"
      ]
     },
     "metadata": {
      "needs_background": "light"
     },
     "output_type": "display_data"
    }
   ],
   "source": [
    "mysvm.C=0.001\n",
    "svm_classifiers = trainSVMs(labels)"
   ]
  },
  {
   "cell_type": "markdown",
   "metadata": {},
   "source": [
    "## For C=100"
   ]
  },
  {
   "cell_type": "code",
   "execution_count": 155,
   "metadata": {},
   "outputs": [
    {
     "data": {
      "image/png": "[encoded data removed]",
      "text/plain": [
       "<Figure size 432x288 with 1 Axes>"
      ]
     },
     "metadata": {
      "needs_background": "light"
     },
     "output_type": "display_data"
    },
    {
     "data": {
      "image/png": "[encoded data removed]",
      "text/plain": [
       "<Figure size 432x288 with 1 Axes>"
      ]
     },
     "metadata": {
      "needs_background": "light"
     },
     "output_type": "display_data"
    },
    {
     "data": {
      "image/png": "[encoded data removed]",
      "text/plain": [
       "<Figure size 432x288 with 1 Axes>"
      ]
     },
     "metadata": {
      "needs_background": "light"
     },
     "output_type": "display_data"
    }
   ],
   "source": [
    "mysvm.C=100\n",
    "svm_classifiers = trainSVMs(labels)"
   ]
  },
  {
   "cell_type": "markdown",
   "metadata": {},
   "source": [
    "# Kernel SVMs"
   ]
  },
  {
   "cell_type": "code",
   "execution_count": 71,
   "metadata": {},
   "outputs": [],
   "source": [
    "class Kernel(object):\n",
    "    @staticmethod\n",
    "    def linear():\n",
    "        def f(x, y):\n",
    "            return np.inner(x, y)\n",
    "        return f\n",
    "\n",
    "    @staticmethod\n",
    "    def gaussian(sigma):\n",
    "        def f(x, y):\n",
    "            exponent = -np.sqrt(la.norm(x-y) ** 2 / (2 * sigma ** 2))\n",
    "            return np.exp(exponent)\n",
    "        return f\n",
    "\n",
    "    @staticmethod\n",
    "    def _polykernel(dimension, offset):\n",
    "        def f(x, y):\n",
    "            return (offset + np.dot(x, y)) ** dimension\n",
    "        return f"
   ]
  },
  {
   "cell_type": "code",
   "execution_count": 72,
   "metadata": {},
   "outputs": [],
   "source": [
    "class SVMPredictor(object):\n",
    "    def __init__(self,\n",
    "                 kernel,\n",
    "                 bias,\n",
    "                 weights,\n",
    "                 support_vectors,\n",
    "                 support_vector_labels):\n",
    "        self._kernel = kernel\n",
    "        self._bias = bias\n",
    "        self._weights = weights\n",
    "        self._support_vectors = support_vectors\n",
    "        self._support_vector_labels = support_vector_labels\n",
    "\n",
    "    def predict(self, x):\n",
    "        result = self._bias\n",
    "        for z_i, x_i, y_i in zip(self._weights,\n",
    "                                 self._support_vectors,\n",
    "                                 self._support_vector_labels):\n",
    "            result += z_i * y_i * self._kernel(x_i, x)\n",
    "        return np.sign(result).item()"
   ]
  },
  {
   "cell_type": "code",
   "execution_count": 67,
   "metadata": {},
   "outputs": [],
   "source": [
    "class SVMTrainer(object):\n",
    "    def __init__(self, kernel, c):\n",
    "        self._kernel = kernel\n",
    "        self._c = c\n",
    "\n",
    "    def train(self, X, y):\n",
    "        lagrange_multipliers = self._compute_multipliers(X, y)\n",
    "        return self._construct_predictor(X, y, lagrange_multipliers)\n",
    "\n",
    "    def _gram_matrix(self, X):\n",
    "        n_samples, n_features = X.shape\n",
    "        K = np.zeros((n_samples, n_samples))\n",
    "        # TODO(tulloch) - vectorize\n",
    "        for i, x_i in enumerate(X):\n",
    "            for j, x_j in enumerate(X):\n",
    "                K[i, j] = self._kernel(x_i, x_j)\n",
    "        return K\n",
    "\n",
    "    def _construct_predictor(self, X, y, lagrange_multipliers):\n",
    "        MIN_SUPPORT_VECTOR_MULTIPLIER = 1e-5\n",
    "        support_vector_indices = \\\n",
    "            lagrange_multipliers > MIN_SUPPORT_VECTOR_MULTIPLIER\n",
    "\n",
    "        support_multipliers = lagrange_multipliers[support_vector_indices]\n",
    "        support_vectors = X[support_vector_indices]\n",
    "        support_vector_labels = y[support_vector_indices]\n",
    "        bias = np.mean(\n",
    "            [y_k - SVMPredictor(\n",
    "                kernel=self._kernel,\n",
    "                bias=0.0,\n",
    "                weights=support_multipliers,\n",
    "                support_vectors=support_vectors,\n",
    "                support_vector_labels=support_vector_labels).predict(x_k)\n",
    "             for (y_k, x_k) in zip(support_vector_labels, support_vectors)])\n",
    "\n",
    "        return SVMPredictor(\n",
    "            kernel=self._kernel,\n",
    "            bias=bias,\n",
    "            weights=support_multipliers,\n",
    "            support_vectors=support_vectors,\n",
    "            support_vector_labels=support_vector_labels)\n",
    "\n",
    "    def _compute_multipliers(self, X, y):\n",
    "        n_samples, n_features = X.shape\n",
    "        K = self._gram_matrix(X)\n",
    "        P = cvxopt.matrix(np.outer(y, y) * K)\n",
    "        q = cvxopt.matrix(-1 * np.ones(n_samples))\n",
    "        G_std = cvxopt.matrix(np.diag(np.ones(n_samples) * -1))\n",
    "        h_std = cvxopt.matrix(np.zeros(n_samples))\n",
    "        G_slack = cvxopt.matrix(np.diag(np.ones(n_samples)))\n",
    "        h_slack = cvxopt.matrix(np.ones(n_samples) * self._c)\n",
    "        G = cvxopt.matrix(np.vstack((G_std, G_slack)))\n",
    "        h = cvxopt.matrix(np.vstack((h_std, h_slack)))\n",
    "        A = cvxopt.matrix(y, (1, n_samples))\n",
    "        b = cvxopt.matrix(0.0)\n",
    "        solution = cvxopt.solvers.qp(P, q, G, h, A, b)\n",
    "      \n",
    "        return np.ravel(solution['x'])\n"
   ]
  },
  {
   "cell_type": "code",
   "execution_count": 87,
   "metadata": {},
   "outputs": [],
   "source": [
    "mysvm = SVMTrainer(Kernel.linear(),0.05)\n",
    "data_classes = segregateclasses(reduced_X,labels)\n",
    "for i in data_classes.keys():\n",
    "    data_classes[i]=np.array(data_classes[i])\n",
    "classes = []\n",
    "for i in data_classes:\n",
    "    classes.append(i)"
   ]
  },
  {
   "cell_type": "code",
   "execution_count": 88,
   "metadata": {},
   "outputs": [
    {
     "data": {
      "text/plain": [
       "(7831, 2)"
      ]
     },
     "execution_count": 88,
     "metadata": {},
     "output_type": "execute_result"
    }
   ],
   "source": [
    "reduced_X.shape"
   ]
  },
  {
   "cell_type": "code",
   "execution_count": 70,
   "metadata": {},
   "outputs": [
    {
     "name": "stdout",
     "output_type": "stream",
     "text": [
      "     pcost       dcost       gap    pres   dres\n",
      " 0: -6.6821e+02 -2.0092e+02  1e+04  6e+01  1e-13\n",
      " 1: -5.8919e+01 -1.9666e+02  5e+02  1e+00  1e-13\n",
      " 2: -4.3840e+01 -1.1615e+02  8e+01  7e-02  1e-14\n",
      " 3: -4.5745e+01 -6.9668e+01  3e+01  2e-02  7e-15\n",
      " 4: -4.6190e+01 -5.9492e+01  1e+01  1e-02  9e-15\n",
      " 5: -4.6473e+01 -5.0725e+01  4e+00  9e-15  1e-14\n",
      " 6: -4.7083e+01 -4.7204e+01  1e-01  1e-14  1e-14\n",
      " 7: -4.7100e+01 -4.7101e+01  1e-03  1e-14  1e-14\n",
      " 8: -4.7100e+01 -4.7100e+01  1e-05  5e-15  8e-15\n",
      "Optimal solution found.\n"
     ]
    }
   ],
   "source": [
    "xpair,ypair=combineoneall(data_classes,classes[0])\n",
    "xsub,ysub=findtrainsubset(xpair,ypair,0.90)\n",
    "predictor = mysvm.train(xsub, ysub)"
   ]
  },
  {
   "cell_type": "code",
   "execution_count": 90,
   "metadata": {},
   "outputs": [],
   "source": [
    "def trainSVMs(y):\n",
    "    svm_classifiers = {}\n",
    "    number_of_classes = len(np.unique(y))\n",
    "    for i in range(len(data_classes)):\n",
    "        xpair,ypair=combineoneall(data_classes,classes[i])\n",
    "        svm_classifiers[i] = mysvm.train(xpair, ypair)\n",
    "            \n",
    "    return svm_classifiers"
   ]
  },
  {
   "cell_type": "code",
   "execution_count": 91,
   "metadata": {},
   "outputs": [
    {
     "name": "stdout",
     "output_type": "stream",
     "text": [
      "     pcost       dcost       gap    pres   dres\n",
      " 0: -3.3652e+03 -9.9953e+02  7e+04  6e+01  4e-13\n",
      " 1: -3.0331e+02 -9.7837e+02  2e+03  2e+00  4e-13\n",
      " 2: -2.1930e+02 -6.1698e+02  5e+02  8e-02  6e-14\n",
      " 3: -2.3071e+02 -3.4773e+02  1e+02  2e-02  5e-14\n",
      " 4: -2.3031e+02 -3.2833e+02  1e+02  2e-02  4e-14\n",
      " 5: -2.3178e+02 -2.9875e+02  7e+01  7e-03  4e-14\n",
      " 6: -2.3598e+02 -2.5937e+02  2e+01  2e-03  4e-14\n",
      " 7: -2.3866e+02 -2.3900e+02  3e-01  2e-05  5e-14\n",
      " 8: -2.3870e+02 -2.3870e+02  3e-03  2e-07  5e-14\n",
      " 9: -2.3870e+02 -2.3870e+02  3e-05  2e-09  5e-14\n",
      "Optimal solution found.\n",
      "     pcost       dcost       gap    pres   dres\n",
      " 0: -3.3625e+03 -8.4673e+02  5e+04  5e+01  4e-13\n",
      " 1: -2.7010e+02 -8.2558e+02  1e+03  6e-01  4e-13\n",
      " 2: -2.2176e+02 -3.4443e+02  1e+02  7e-15  4e-14\n",
      " 3: -2.2534e+02 -2.2766e+02  2e+00  8e-14  4e-14\n",
      " 4: -2.2550e+02 -2.2552e+02  2e-02  9e-14  4e-14\n",
      " 5: -2.2550e+02 -2.2550e+02  2e-04  8e-14  4e-14\n",
      " 6: -2.2550e+02 -2.2550e+02  2e-06  2e-13  4e-14\n",
      "Optimal solution found.\n",
      "     pcost       dcost       gap    pres   dres\n",
      " 0: -3.8707e+03 -9.5985e+02  6e+04  6e+01  7e-13\n",
      " 1: -4.0710e+02 -9.4203e+02  3e+03  2e+00  6e-13\n",
      " 2: -2.7183e+02 -7.1871e+02  6e+02  2e-01  8e-14\n",
      " 3: -3.0227e+02 -3.7077e+02  7e+01  2e-02  5e-14\n",
      " 4: -3.0655e+02 -3.5982e+02  6e+01  1e-02  4e-14\n",
      " 5: -3.1513e+02 -3.3279e+02  2e+01  2e-13  5e-14\n",
      " 6: -3.1874e+02 -3.1953e+02  8e-01  1e-13  6e-14\n",
      " 7: -3.1890e+02 -3.1891e+02  8e-03  1e-14  5e-14\n",
      " 8: -3.1890e+02 -3.1890e+02  8e-05  3e-13  5e-14\n",
      "Optimal solution found.\n"
     ]
    }
   ],
   "source": [
    "predictor = trainSVMs(labels)"
   ]
  },
  {
   "cell_type": "markdown",
   "metadata": {},
   "source": [
    "# Test the classifer"
   ]
  },
  {
   "cell_type": "code",
   "execution_count": null,
   "metadata": {},
   "outputs": [],
   "source": [
    "test_data = pd.read_csv(\"E:\\\\SMAI_A2\\\\Q5\\\\Question-5\\\\test.csv\")"
   ]
  },
  {
   "cell_type": "code",
   "execution_count": null,
   "metadata": {},
   "outputs": [],
   "source": [
    "test_corpus = np.array(test_data[\"text\"])\n",
    "test_labels = np.array(data[\"author\"])"
   ]
  },
  {
   "cell_type": "code",
   "execution_count": null,
   "metadata": {},
   "outputs": [],
   "source": [
    "test_X = vectorizer.fit_transform(test_corpus) \n",
    "test_X_reduced = test_X.toarray()"
   ]
  },
  {
   "cell_type": "code",
   "execution_count": null,
   "metadata": {},
   "outputs": [],
   "source": [
    "pca = PCA(n_components=2)\n",
    "pca.fit(test_X_reduced)"
   ]
  },
  {
   "cell_type": "code",
   "execution_count": null,
   "metadata": {},
   "outputs": [],
   "source": [
    "prediction_result = {}\n",
    "for i in range(len(data_classes)):\n",
    "    prediction_result[i] = []\n",
    "for i in range(len(test_X_reduced)):\n",
    "    for j in range(len(data_classes)):\n",
    "        prediction_result[j].append(predictor[j].predict(test_X_reduced[i,:]))"
   ]
  },
  {
   "cell_type": "markdown",
   "metadata": {},
   "source": [
    "# Confusion matrix , F1-score and Accuracy Calculation"
   ]
  },
  {
   "cell_type": "code",
   "execution_count": null,
   "metadata": {},
   "outputs": [],
   "source": [
    "confusion_matrix = np.zeros(shape=(3,2))\n",
    "for i in range(len(test_labels)):\n",
    "    for j in range(len(data_classes)):\n",
    "        for k in range(len(prediction_result[j])):\n",
    "            if(prediction_result[j][k]==-1):\n",
    "                if(test_labels[i]==j):\n",
    "                    confusion_matrix[j][0]+=1\n",
    "                else:\n",
    "                    confusion_matrix[j][1]+=1\n",
    "            else:\n",
    "                if(test_labels[i]==j):\n",
    "                    confusion_matrix[j][1]+=1\n",
    "                else:\n",
    "                    confusion_matrix[j][0]+=1"
   ]
  },
  {
   "cell_type": "code",
   "execution_count": null,
   "metadata": {},
   "outputs": [],
   "source": [
    "precision = []\n",
    "recall = []\n",
    "for i in range(len(data_classes)):\n",
    "    for j in range(len(data_classes)):\n",
    "        if(i!=j):\n",
    "            tot+=confusion_matrix[j][0]\n",
    "    precision.append(confusion_matrix[i][0]/tot)\n",
    "    recall.append(confusion_matrix[i][0]/(confusion_matrix[i][0]+confusion_matrix[i][1]))"
   ]
  },
  {
   "cell_type": "code",
   "execution_count": null,
   "metadata": {},
   "outputs": [],
   "source": [
    "precision=np.array(precision)\n",
    "recall=np.array(recall)\n",
    "F1-score=2*np.dot(precision.T,recall)/(precision+recall)\n",
    "for i in range(len(data_classes)):\n",
    "    correct+=confusion_matrix[i][0]\n",
    "    wrong+=confusion_matrix[i][1]\n",
    "Accuracy=correct/(correct+wrong) * 100"
   ]
  },
  {
   "cell_type": "code",
   "execution_count": null,
   "metadata": {},
   "outputs": [],
   "source": []
  },
  {
   "cell_type": "markdown",
   "metadata": {},
   "source": [
    "# Impoved Precocessing By Removing stopwords and stemming"
   ]
  },
  {
   "cell_type": "code",
   "execution_count": null,
   "metadata": {},
   "outputs": [],
   "source": [
    "stop_words = set(stopwords.words('english'))\n",
    "word_tokens = []\n",
    "for doc in corpus:\n",
    "    word_tokens+=word_tokenize(doc)\n",
    "filtered_words = []\n",
    "for w in word_tokens: \n",
    "    if w not in stop_words: \n",
    "        filtered_words.append(w)\n",
    "ps=PorterStemmer()\n",
    "dict_w = {}\n",
    "for w in filtered_words:\n",
    "    if ps.stem(w) in dict_w:\n",
    "        dict_w[ps.stem(w)]=dict_w[ps.stem(w)]+1\n",
    "    else:\n",
    "        dict_w[ps.stem(w)]=0\n",
    "filtered_nwords = []\n",
    "for word in dict_w:\n",
    "    filtered_nwords.append(word)"
   ]
  },
  {
   "cell_type": "code",
   "execution_count": 139,
   "metadata": {},
   "outputs": [
    {
     "data": {
      "text/plain": [
       "11478"
      ]
     },
     "execution_count": 139,
     "metadata": {},
     "output_type": "execute_result"
    }
   ],
   "source": [
    "len(filtered_nwords)"
   ]
  },
  {
   "cell_type": "code",
   "execution_count": 140,
   "metadata": {},
   "outputs": [
    {
     "data": {
      "text/plain": [
       "237854"
      ]
     },
     "execution_count": 140,
     "metadata": {},
     "output_type": "execute_result"
    }
   ],
   "source": [
    "len(word_tokens)"
   ]
  },
  {
   "cell_type": "markdown",
   "metadata": {},
   "source": [
    "## Observation:- Using this preprocssing from 237854 to 11478 words since corpus size decreases,so there is increase the efficiency interms of compute time"
   ]
  },
  {
   "cell_type": "code",
   "execution_count": 114,
   "metadata": {},
   "outputs": [],
   "source": [
    " "
   ]
  },
  {
   "cell_type": "code",
   "execution_count": 117,
   "metadata": {},
   "outputs": [],
   "source": []
  },
  {
   "cell_type": "code",
   "execution_count": 135,
   "metadata": {},
   "outputs": [],
   "source": []
  },
  {
   "cell_type": "code",
   "execution_count": 137,
   "metadata": {},
   "outputs": [],
   "source": []
  },
  {
   "cell_type": "code",
   "execution_count": null,
   "metadata": {},
   "outputs": [],
   "source": []
  },
  {
   "cell_type": "code",
   "execution_count": null,
   "metadata": {},
   "outputs": [],
   "source": []
  },
  {
   "cell_type": "code",
   "execution_count": null,
   "metadata": {},
   "outputs": [],
   "source": []
  }
 ],
 "metadata": {
  "kernelspec": {
   "display_name": "Python 3",
   "language": "python",
   "name": "python3"
  },
  "language_info": {
   "codemirror_mode": {
    "name": "ipython",
    "version": 3
   },
   "file_extension": ".py",
   "mimetype": "text/x-python",
   "name": "python",
   "nbconvert_exporter": "python",
   "pygments_lexer": "ipython3",
   "version": "3.7.4"
  }
 },
 "nbformat": 4,
 "nbformat_minor": 2
}
