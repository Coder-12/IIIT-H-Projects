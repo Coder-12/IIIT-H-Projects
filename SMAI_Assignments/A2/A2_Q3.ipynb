{
 "cells": [
  {
   "cell_type": "markdown",
   "metadata": {},
   "source": [
    "# Import Statemments"
   ]
  },
  {
   "cell_type": "code",
   "execution_count": 1,
   "metadata": {},
   "outputs": [],
   "source": [
    "%matplotlib inline\n",
    "import pandas as pd\n",
    "import pickle\n",
    "import numpy as np\n",
    "import matplotlib.pyplot as plt\n",
    "from matplotlib import style\n",
    "from scipy.stats import norm\n",
    "np.random.seed(0)\n",
    "import seaborn as sns\n",
    "import random as rnd\n",
    "import csv\n",
    "import random\n",
    "import math\n",
    "import operator\n",
    "import copy"
   ]
  },
  {
   "cell_type": "markdown",
   "metadata": {},
   "source": [
    "# Load and Preprocess DataSet"
   ]
  },
  {
   "cell_type": "code",
   "execution_count": 25,
   "metadata": {},
   "outputs": [],
   "source": [
    "data=pd.read_csv(\"/home/aklesh/Documents/SMAI_A2/SMAI_2019201073/airfoil.csv\")\n",
    "data = data.rename(columns={\"8.000000000000000000e+03\":\"Frequency\",\"4.000000000000000000e+00\":\"Angle\",\"2.285999999999999976e-01\":\"Length\",\n",
    "\"3.960000000000000142e+01\":\"Velocity\",\"4.738009999999999965e-03\":\"Thickness\",\"1.131289999999999907e+02\":\"Label\"})"
   ]
  },
  {
   "cell_type": "code",
   "execution_count": 28,
   "metadata": {},
   "outputs": [],
   "source": [
    "test_data=pd.read_csv(\"/home/aklesh/Documents/SMAI_A2/SMAI_2019201073/airfoil_test.csv\")"
   ]
  },
  {
   "cell_type": "code",
   "execution_count": 32,
   "metadata": {},
   "outputs": [
    {
     "data": {
      "text/plain": [
       "Index(['1.600000000000000000e+03', '5.400000000000000355e+00',\n",
       "       '1.524000000000000077e-01', '7.129999999999999716e+01',\n",
       "       '4.011990000000000001e-03', '1.332410000000000139e+02'],\n",
       "      dtype='object')"
      ]
     },
     "execution_count": 32,
     "metadata": {},
     "output_type": "execute_result"
    }
   ],
   "source": [
    "#data = data.rename(columns={'1.600000000000000000e+03':\"Frequency\",'5.400000000000000355e+00':\"Angle\",'1.524000000000000077e-01':\"Length\",\n",
    "#'7.129999999999999716e+01':\"Velocity\",'4.011990000000000001e-03':\"Thickness\",'1.332410000000000139e+02':\"Label\"})"
   ]
  },
  {
   "cell_type": "code",
   "execution_count": 33,
   "metadata": {},
   "outputs": [
    {
     "data": {
      "text/plain": [
       "(300, 6)"
      ]
     },
     "execution_count": 33,
     "metadata": {},
     "output_type": "execute_result"
    }
   ],
   "source": [
    "test_data.shape"
   ]
  },
  {
   "cell_type": "markdown",
   "metadata": {},
   "source": [
    "# Multivariate Linear Regression"
   ]
  },
  {
   "cell_type": "code",
   "execution_count": 4,
   "metadata": {},
   "outputs": [],
   "source": [
    "class MLinearRegressior:\n",
    "    def __init__(self,alpha,iterations):\n",
    "        self.alpha=alpha\n",
    "        self.maxiter=iterations\n",
    "    def costfunc(self,X,Y,theta):\n",
    "        m=X.shape[0]\n",
    "        error=(np.dot(X,theta)-Y)\n",
    "        cost=1/(2*m) * np.dot(error.T,error)\n",
    "        return cost,error\n",
    "    def gradient_descend(self,X,Y,theta):\n",
    "        cost_arr = np.zeros(self.maxiter)\n",
    "        m = X.shape[0]\n",
    "        for i in range(self.maxiter):\n",
    "            cost,error=self.costfunc(X,Y,theta)\n",
    "            theta = (theta - (self.alpha*(1/m)*np.dot(X.T,error)))\n",
    "            cost_arr[i]=cost\n",
    "        return theta,cost_arr\n",
    "        \n",
    "    def run(self,data,theta):\n",
    "        X = data[[\"Frequency\",\"Angle\",\"Length\",\"Velocity\",\"Thickness\"]]\n",
    "        Y = data[[\"Label\"]]\n",
    "        X = (X-X.mean())/X.std()\n",
    "        X = np.c_[np.ones(X.shape[0]),X]\n",
    "        #theta = np.zeros(shape = (X.shape[1],1))\n",
    "        \n",
    "        initial_cost,_ = self.costfunc(X,Y,theta)\n",
    "        theta,cost_arr = self.gradient_descend(X,Y,theta)\n",
    "        final_cost,_ = self.costfunc(X,Y,theta)\n",
    "        #print(\"With theta {0} the final cost of model is {1}\".format(theta,final_cost))\n",
    "        return cost_arr"
   ]
  },
  {
   "cell_type": "code",
   "execution_count": 11,
   "metadata": {},
   "outputs": [
    {
     "name": "stdout",
     "output_type": "stream",
     "text": [
      "(1201, 6)\n",
      "(6, 1)\n"
     ]
    }
   ],
   "source": [
    "LGM=MLinearRegressior(0.01,1000)\n",
    "theta = np.empty(shape = (data.shape[1],1))\n",
    "theta.fill(10)\n",
    "cost_arr1 = LGM.run(data,theta)\n",
    "print(theta.shape)"
   ]
  },
  {
   "cell_type": "code",
   "execution_count": 177,
   "metadata": {},
   "outputs": [
    {
     "name": "stdout",
     "output_type": "stream",
     "text": [
      "With theta [[124.73164451]\n",
      " [ -4.0165598 ]\n",
      " [ -1.37755972]\n",
      " [ -2.91443511]\n",
      " [  1.49640884]\n",
      " [ -2.71547069]] the final cost of model is [[11.64279771]]\n",
      "With theta [[124.73552993]\n",
      " [ -3.13801531]\n",
      " [  4.71343725]\n",
      " [ -0.33044338]\n",
      " [  0.90462505]\n",
      " [ -7.30236457]] the final cost of model is [[19.16791556]]\n",
      "With theta [[ 1.24742006e+02]\n",
      " [-1.67377449e+00]\n",
      " [ 1.48650989e+01]\n",
      " [ 3.97620951e+00]\n",
      " [-8.16812498e-02]\n",
      " [-1.49471877e+01]] the final cost of model is [[57.13123475]]\n"
     ]
    },
    {
     "data": {
      "text/plain": [
       "[<matplotlib.lines.Line2D at 0x2779490b208>]"
      ]
     },
     "execution_count": 177,
     "metadata": {},
     "output_type": "execute_result"
    },
    {
     "data": {
      "image/png": "[encoded data removed]",
      "text/plain": [
       "<Figure size 432x288 with 1 Axes>"
      ]
     },
     "metadata": {},
     "output_type": "display_data"
    }
   ],
   "source": [
    "LGM=MLinearRegressior(0.01,1000)\n",
    "theta = np.empty(shape = (data.shape[1],1))\n",
    "fig = np.linspace(0, 1000, 1000)\n",
    "plt.ylim(0,10000)\n",
    "plt.xlabel(\"Iteration\")\n",
    "plt.ylabel(\"Error\")\n",
    "plt.title(\"Error vs. Iteration\")\n",
    "theta.fill(10)\n",
    "cost_arr1 = LGM.run(data,theta)\n",
    "theta.fill(100)\n",
    "cost_arr2 = LGM.run(data,theta)\n",
    "theta.fill(250)\n",
    "cost_arr3 = LGM.run(data,theta)\n",
    "plt.plot(fig,cost_arr1,'r')\n",
    "plt.plot(fig,cost_arr2,'g')\n",
    "plt.plot(fig,cost_arr3,'b')"
   ]
  },
  {
   "cell_type": "code",
   "execution_count": null,
   "metadata": {},
   "outputs": [],
   "source": []
  },
  {
   "cell_type": "code",
   "execution_count": 16,
   "metadata": {},
   "outputs": [
    {
     "name": "stdout",
     "output_type": "stream",
     "text": [
      "With theta [[86.22543001]\n",
      " [ 8.06662457]\n",
      " [ 8.85661274]\n",
      " [11.49932054]\n",
      " [ 6.42218259]\n",
      " [ 3.94420417]] the final cost of model is [[934.36034097]]\n",
      "With theta [[124.73207623]\n",
      " [ -3.91894374]\n",
      " [ -0.70078228]\n",
      " [ -2.62732492]\n",
      " [  1.43065508]\n",
      " [ -3.22512556]] the final cost of model is [[11.91400067]]\n",
      "With theta [[124.73659784]\n",
      " [ -4.1551172 ]\n",
      " [ -2.33876021]\n",
      " [ -3.3217579 ]\n",
      " [  1.59001525]\n",
      " [ -1.99127375]] the final cost of model is [[11.50033578]]\n"
     ]
    },
    {
     "data": {
      "text/plain": [
       "[<matplotlib.lines.Line2D at 0x15dd1c3dc48>]"
      ]
     },
     "execution_count": 16,
     "metadata": {},
     "output_type": "execute_result"
    },
    {
     "data": {
      "image/png": "[encoded data removed]",
      "text/plain": [
       "<Figure size 432x288 with 1 Axes>"
      ]
     },
     "metadata": {
      "needs_background": "light"
     },
     "output_type": "display_data"
    }
   ],
   "source": [
    "theta = np.empty(shape = (data.shape[1],1))\n",
    "theta.fill(20)\n",
    "fig = np.linspace(0, 1000, 1000)\n",
    "plt.ylim(0,10000)\n",
    "plt.xlabel(\"Iteration\")\n",
    "plt.ylabel(\"Error\")\n",
    "plt.title(\"Error vs. Iteration\")\n",
    "LGM1=MLinearRegressior(0.001,1000)\n",
    "cost_arr1 = LGM1.run(data,theta)\n",
    "LGM2=MLinearRegressior(0.01,1000)\n",
    "cost_arr2 = LGM2.run(data,theta)\n",
    "LGM3=MLinearRegressior(0.1,1000)\n",
    "cost_arr3 = LGM3.run(data,theta)\n",
    "plt.plot(fig,cost_arr1,'r')\n",
    "plt.plot(fig,cost_arr2,'g')\n",
    "plt.plot(fig,cost_arr3,'b')"
   ]
  },
  {
   "cell_type": "markdown",
   "metadata": {},
   "source": [
    "# Analysis"
   ]
  },
  {
   "cell_type": "markdown",
   "metadata": {},
   "source": [
    "### a. When 0-0.5% of values are missing of that feature we can drop those missing values since training set is normally large enough to compansate on accuracy."
   ]
  },
  {
   "cell_type": "markdown",
   "metadata": {},
   "source": [
    "### b. When 7-10% of values are missing of that feature we can replace those missing values by some centrality measure(Like mean,variance)"
   ]
  },
  {
   "cell_type": "markdown",
   "metadata": {},
   "source": [
    "### c. When 60-70% of values are missing of that feature we can train a classfier to classify those missing values.The classifier algorithm is as follows,split dataset into missing and non-missing set,the missing set is test set and nonmissing set as train set with label as known values of 'F'.Let say feature 'F' has 60-70% missing values,so we get predicted F values using this model by testing each missing point against this classifier.But this incure extra compute cost."
   ]
  },
  {
   "cell_type": "code",
   "execution_count": null,
   "metadata": {},
   "outputs": [],
   "source": []
  }
 ],
 "metadata": {
  "kernelspec": {
   "display_name": "Python 3",
   "language": "python",
   "name": "python3"
  },
  "language_info": {
   "codemirror_mode": {
    "name": "ipython",
    "version": 3
   },
   "file_extension": ".py",
   "mimetype": "text/x-python",
   "name": "python",
   "nbconvert_exporter": "python",
   "pygments_lexer": "ipython3",
   "version": "3.7.4"
  }
 },
 "nbformat": 4,
 "nbformat_minor": 2
}
