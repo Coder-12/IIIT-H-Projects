{
 "cells": [
  {
   "cell_type": "code",
   "execution_count": 59,
   "metadata": {},
   "outputs": [],
   "source": [
    "%matplotlib inline\n",
    "import pandas as pd\n",
    "import pickle\n",
    "import numpy as np\n",
    "import matplotlib.pyplot as plt\n",
    "from matplotlib import style\n",
    "from scipy.stats import norm\n",
    "from sklearn.feature_extraction.text import CountVectorizer\n",
    "from numpy.linalg import norm\n",
    "np.random.seed(0)\n",
    "import seaborn as sns\n",
    "import random as rd\n",
    "import csv\n",
    "import random\n",
    "import math\n",
    "import operator\n",
    "import copy\n",
    "import os,os.path"
   ]
  },
  {
   "cell_type": "code",
   "execution_count": 60,
   "metadata": {},
   "outputs": [],
   "source": [
    "def findtrainsubset(data,drop_size):\n",
    "    if isinstance(drop_size,float):\n",
    "        drop_size=round(drop_size * len(data))\n",
    "    indices = data.index.tolist()\n",
    "    drop_indices = random.sample(population=indices,k=drop_size)\n",
    "    train_subdata = data.drop(drop_indices)\n",
    "    return train_subdata"
   ]
  },
  {
   "cell_type": "code",
   "execution_count": 61,
   "metadata": {},
   "outputs": [],
   "source": [
    "path = 'E:\\\\SMAI_A2\\\\Q6\\\\Question-6\\\\dataset'\n",
    "f_names = os.listdir(path)\n",
    "corpus = []\n",
    "for filename in f_names:\n",
    "    filepath=path + \"\\\\\" + filename\n",
    "    file = open(filepath,\"r\")\n",
    "    str=file.read()\n",
    "    corpus.append(str)"
   ]
  },
  {
   "cell_type": "code",
   "execution_count": 62,
   "metadata": {},
   "outputs": [
    {
     "name": "stdout",
     "output_type": "stream",
     "text": [
      "1725\n"
     ]
    }
   ],
   "source": [
    "print(len(corpus))"
   ]
  },
  {
   "cell_type": "code",
   "execution_count": 63,
   "metadata": {},
   "outputs": [
    {
     "name": "stdout",
     "output_type": "stream",
     "text": [
      "[[0 0 0 ... 0 0 0]\n",
      " [0 0 0 ... 0 0 0]\n",
      " [0 0 0 ... 0 0 0]\n",
      " ...\n",
      " [0 1 0 ... 0 0 0]\n",
      " [0 0 0 ... 0 0 0]\n",
      " [0 2 0 ... 0 0 0]]\n"
     ]
    }
   ],
   "source": [
    "vectorizer = CountVectorizer()\n",
    "X = vectorizer.fit_transform(corpus)\n",
    "X=X.toarray()\n",
    "print(X)"
   ]
  },
  {
   "cell_type": "markdown",
   "metadata": {},
   "source": [
    "# K-Mean Clustering Algorithm"
   ]
  },
  {
   "cell_type": "code",
   "execution_count": 64,
   "metadata": {},
   "outputs": [],
   "source": [
    "class Kmeans:\n",
    "    def __init__(self, n_clusters, max_iter=100, random_state=123):\n",
    "        self.n_clusters = n_clusters\n",
    "        self.max_iter = max_iter\n",
    "        self.random_state = random_state\n",
    "\n",
    "    def initializ_centroids(self, X):\n",
    "        np.random.RandomState(self.random_state)\n",
    "        random_idx = np.random.permutation(X.shape[0])\n",
    "        centroids = X[random_idx[:self.n_clusters]]\n",
    "        return centroids\n",
    "\n",
    "    def compute_centroids(self, X, labels):\n",
    "        centroids = np.zeros((self.n_clusters, X.shape[1]))\n",
    "        for k in range(self.n_clusters):\n",
    "            centroids[k, :] = np.mean(X[labels == k, :], axis=0)\n",
    "        return centroids\n",
    "\n",
    "    def compute_distance(self, X, centroids):\n",
    "        distance = np.zeros((X.shape[0], self.n_clusters))\n",
    "        for k in range(self.n_clusters):\n",
    "            row_norm = norm(X - centroids[k, :], axis=1)\n",
    "            distance[:, k] = np.square(row_norm)\n",
    "        return distance\n",
    "\n",
    "    def find_closest_cluster(self, distance):\n",
    "        return np.argmin(distance, axis=1)\n",
    "\n",
    "    def compute_sse(self, X, labels, centroids):\n",
    "        distance = np.zeros(X.shape[0])\n",
    "        for k in range(self.n_clusters):\n",
    "            distance[labels == k] = norm(X[labels == k] - centroids[k], axis=1)\n",
    "        return np.sum(np.square(distance))\n",
    "\n",
    "    def fit(self, X):\n",
    "        self.centroids = self.initializ_centroids(X)\n",
    "        for i in range(self.max_iter):\n",
    "            old_centroids = self.centroids\n",
    "            distance = self.compute_distance(X, old_centroids)\n",
    "            self.labels = self.find_closest_cluster(distance)\n",
    "            self.centroids = self.compute_centroids(X, self.labels)\n",
    "            if np.all(old_centroids == self.centroids):\n",
    "                break\n",
    "        self.error = self.compute_sse(X, self.labels, self.centroids)\n",
    "\n",
    "    def predict(self, X):\n",
    "        distance = self.compute_distance(X, self.centroids)\n",
    "        return self.find_closest_cluster(distance)"
   ]
  },
  {
   "cell_type": "code",
   "execution_count": 65,
   "metadata": {},
   "outputs": [],
   "source": [
    "km = Kmeans(n_clusters=5, max_iter=100)\n",
    "km.fit(X)    "
   ]
  },
  {
   "cell_type": "code",
   "execution_count": 66,
   "metadata": {},
   "outputs": [
    {
     "data": {
      "image/png": "[encoded data removed]",
      "text/plain": [
       "<Figure size 432x432 with 1 Axes>"
      ]
     },
     "metadata": {
      "needs_background": "light"
     },
     "output_type": "display_data"
    }
   ],
   "source": [
    "centroids = km.centroids\n",
    "fig, ax = plt.subplots(figsize=(6, 6))\n",
    "plt.scatter(X[km.labels == 0, 0], X[km.labels == 0, 1],c='green', label='cluster 1')\n",
    "plt.scatter(X[km.labels == 1, 0], X[km.labels == 1, 1],c='blue', label='cluster 2')\n",
    "plt.scatter(X[km.labels == 2, 0], X[km.labels == 2, 1],c='yellow', label='cluster 3')\n",
    "plt.scatter(X[km.labels == 3, 0], X[km.labels == 3, 1],c='red', label='cluster 4')\n",
    "plt.scatter(X[km.labels == 4, 0], X[km.labels == 4, 1],c='orange', label='cluster 5')\n",
    "#plt.scatter(centroids[:, 0], centroids[:, 1], centroids[:, 2], centroids[:, 3], centroids[:, 4], marker='*', s=300,c='r', label='centroid')\n",
    "plt.legend()\n",
    "plt.xlim([-2, 20])\n",
    "plt.ylim([-2, 20])\n",
    "plt.xlabel('Eruption time in mins')\n",
    "plt.ylabel('Waiting time to next eruption')\n",
    "plt.title('Visualization of clustered data', fontweight='bold')\n",
    "ax.set_aspect('equal');"
   ]
  },
  {
   "cell_type": "code",
   "execution_count": 67,
   "metadata": {},
   "outputs": [],
   "source": [
    "Predicted_labels = km.predict(X)"
   ]
  },
  {
   "cell_type": "code",
   "execution_count": 68,
   "metadata": {},
   "outputs": [
    {
     "name": "stdout",
     "output_type": "stream",
     "text": [
      "[1 4 4 ... 1 4 1]\n"
     ]
    }
   ],
   "source": [
    "print(Predicted_labels)"
   ]
  },
  {
   "cell_type": "code",
   "execution_count": 69,
   "metadata": {},
   "outputs": [],
   "source": [
    "Actual_labels = []\n",
    "for file_name in f_names:\n",
    "    for i in range(len(file_name)):\n",
    "        if(file_name[i]=='_'):\n",
    "            Actual_labels.append(int(file_name[i+1]))"
   ]
  },
  {
   "cell_type": "code",
   "execution_count": 72,
   "metadata": {},
   "outputs": [
    {
     "name": "stdout",
     "output_type": "stream",
     "text": [
      "0.10376811594202899\n"
     ]
    }
   ],
   "source": [
    "match_cnt=0\n",
    "for i in range(len(Actual_labels)):\n",
    "    if(Actual_labels[i]==Predicted_labels[i]+1):\n",
    "        match_cnt+=1\n",
    "Accuracy=match_cnt/len(Actual_labels)\n",
    "print(Accuracy)"
   ]
  },
  {
   "cell_type": "code",
   "execution_count": 17,
   "metadata": {},
   "outputs": [
    {
     "data": {
      "text/plain": [
       "810.6214187367854"
      ]
     },
     "execution_count": 17,
     "metadata": {},
     "output_type": "execute_result"
    }
   ],
   "source": [
    "(1/len(X)) * km.error"
   ]
  },
  {
   "cell_type": "markdown",
   "metadata": {},
   "source": [
    "# Standardization of Training Dataset Improved preprocess"
   ]
  },
  {
   "cell_type": "code",
   "execution_count": 73,
   "metadata": {},
   "outputs": [],
   "source": [
    "X=(X-X.mean())/X.std()"
   ]
  },
  {
   "cell_type": "code",
   "execution_count": 74,
   "metadata": {},
   "outputs": [],
   "source": [
    "o_km = Kmeans(n_clusters=5, max_iter=50)\n",
    "o_km.fit(X) "
   ]
  },
  {
   "cell_type": "code",
   "execution_count": 75,
   "metadata": {},
   "outputs": [
    {
     "data": {
      "image/png": "[encoded data removed]",
      "text/plain": [
       "<Figure size 432x432 with 1 Axes>"
      ]
     },
     "metadata": {
      "needs_background": "light"
     },
     "output_type": "display_data"
    }
   ],
   "source": [
    "centroids = km.centroids\n",
    "fig, ax = plt.subplots(figsize=(6, 6))\n",
    "plt.scatter(X[km.labels == 0, 0], X[km.labels == 0, 1],c='green', label='cluster 1')\n",
    "plt.scatter(X[km.labels == 1, 0], X[km.labels == 1, 1],c='blue', label='cluster 2')\n",
    "plt.scatter(X[km.labels == 2, 0], X[km.labels == 2, 1],c='yellow', label='cluster 3')\n",
    "plt.scatter(X[km.labels == 3, 0], X[km.labels == 3, 1],c='red', label='cluster 4')\n",
    "plt.scatter(X[km.labels == 4, 0], X[km.labels == 4, 1],c='orange', label='cluster 5')\n",
    "plt.legend()\n",
    "plt.xlim([-2, 20])\n",
    "plt.ylim([-2, 20])\n",
    "plt.xlabel('Eruption time in mins')\n",
    "plt.ylabel('Waiting time to next eruption')\n",
    "plt.title('Visualization of clustered data', fontweight='bold')\n",
    "ax.set_aspect('equal');"
   ]
  },
  {
   "cell_type": "code",
   "execution_count": 76,
   "metadata": {},
   "outputs": [],
   "source": [
    "n_Predicted_labels = km.predict(X)"
   ]
  },
  {
   "cell_type": "code",
   "execution_count": 78,
   "metadata": {},
   "outputs": [],
   "source": [
    "n_Actual_labels = []\n",
    "for file_name in f_names:\n",
    "    for i in range(len(file_name)):\n",
    "        if(file_name[i]=='_'):\n",
    "            n_Actual_labels.append(int(file_name[i+1]))"
   ]
  },
  {
   "cell_type": "code",
   "execution_count": 79,
   "metadata": {},
   "outputs": [
    {
     "name": "stdout",
     "output_type": "stream",
     "text": [
      "0.20579710144927535\n"
     ]
    }
   ],
   "source": [
    "match_cnt=0\n",
    "for i in range(len(Actual_labels)):\n",
    "    if(n_Actual_labels[i]==n_Predicted_labels[i]+1):\n",
    "        match_cnt+=1\n",
    "Accuracy=match_cnt/len(n_Actual_labels)\n",
    "print(Accuracy)"
   ]
  },
  {
   "cell_type": "markdown",
   "metadata": {},
   "source": [
    "# Dimensionality Reduction "
   ]
  },
  {
   "cell_type": "code",
   "execution_count": 80,
   "metadata": {},
   "outputs": [
    {
     "data": {
      "text/plain": [
       "PCA(copy=True, iterated_power='auto', n_components=10, random_state=None,\n",
       "    svd_solver='auto', tol=0.0, whiten=False)"
      ]
     },
     "execution_count": 80,
     "metadata": {},
     "output_type": "execute_result"
    }
   ],
   "source": [
    "from sklearn.decomposition import PCA\n",
    "pca = PCA(n_components=10)\n",
    "pca.fit(X)"
   ]
  },
  {
   "cell_type": "code",
   "execution_count": 81,
   "metadata": {},
   "outputs": [],
   "source": [
    "X=pca.transform(X)"
   ]
  },
  {
   "cell_type": "code",
   "execution_count": 82,
   "metadata": {},
   "outputs": [],
   "source": [
    "no_km = Kmeans(n_clusters=5, max_iter=100)\n",
    "no_km.fit(X) "
   ]
  },
  {
   "cell_type": "code",
   "execution_count": 83,
   "metadata": {},
   "outputs": [],
   "source": [
    "nn_Predicted_labels = no_km.predict(X)"
   ]
  },
  {
   "cell_type": "code",
   "execution_count": 85,
   "metadata": {},
   "outputs": [],
   "source": [
    "nn_Actual_labels = []\n",
    "for file_name in f_names:\n",
    "    for i in range(len(file_name)):\n",
    "        if(file_name[i]=='_'):\n",
    "            nn_Actual_labels.append(int(file_name[i+1]))"
   ]
  },
  {
   "cell_type": "code",
   "execution_count": 86,
   "metadata": {},
   "outputs": [
    {
     "name": "stdout",
     "output_type": "stream",
     "text": [
      "0.3426086956521739\n"
     ]
    }
   ],
   "source": [
    "match_cnt=0\n",
    "for i in range(len(Actual_labels)):\n",
    "    if(nn_Actual_labels[i]==nn_Predicted_labels[i]+1):\n",
    "        match_cnt+=1\n",
    "Accuracy=match_cnt/len(nn_Actual_labels)\n",
    "print(Accuracy)"
   ]
  },
  {
   "cell_type": "markdown",
   "metadata": {},
   "source": [
    "# Observation: Accuracy from 10% to 20% by standardization of traindata and from 20% to 34.26% by dimensionality reduction here number of K =5 which is fixed."
   ]
  },
  {
   "cell_type": "code",
   "execution_count": null,
   "metadata": {},
   "outputs": [],
   "source": []
  }
 ],
 "metadata": {
  "kernelspec": {
   "display_name": "Python 3",
   "language": "python",
   "name": "python3"
  },
  "language_info": {
   "codemirror_mode": {
    "name": "ipython",
    "version": 3
   },
   "file_extension": ".py",
   "mimetype": "text/x-python",
   "name": "python",
   "nbconvert_exporter": "python",
   "pygments_lexer": "ipython3",
   "version": "3.7.4"
  }
 },
 "nbformat": 4,
 "nbformat_minor": 2
}
